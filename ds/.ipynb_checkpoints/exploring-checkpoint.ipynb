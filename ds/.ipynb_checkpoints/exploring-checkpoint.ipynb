{
 "cells": [
  {
   "cell_type": "markdown",
   "metadata": {},
   "source": [
    "### Finding Peers"
   ]
  },
  {
   "cell_type": "code",
   "execution_count": 1,
   "metadata": {},
   "outputs": [],
   "source": [
    "import pandas as pd\n",
    "import seaborn as sns\n",
    "import sqlite3, hashlib, requests, json, uuid, os\n",
    "\n",
    "# Collect to and query the DB for all of the peers\n",
    "conn = sqlite3.connect('../test.db')\n",
    "query = \"SELECT * FROM peers;\"\n",
    "\n",
    "df = pd.read_sql_query(query,conn)"
   ]
  },
  {
   "cell_type": "code",
   "execution_count": 2,
   "metadata": {},
   "outputs": [
    {
     "name": "stdout",
     "output_type": "stream",
     "text": [
      "Total Unique IPs: 3118 Total IPs: 43758\n"
     ]
    }
   ],
   "source": [
    "# Total Unique IPs\n",
    "print(f\"Total Unique IPs: {len(df.address.unique())} Total IPs: {len(df.address)}\")\n",
    "\n",
    "# Getting a df of unique IP+torrent combos only\n",
    "## Hash the IP + torrent name concatenated\n",
    "## Insert hash as own column\n",
    "## Select only unique hashes\n",
    "\n",
    "df[\"ip_tor_hash\"] = df[\"address\"] + df[\"torrent_name\"]\n",
    "df[\"ip_tor_hash\"] = df[\"ip_tor_hash\"].apply(lambda x: hashlib.md5(x.encode()).hexdigest())\n",
    "\n",
    "u_df = df.drop_duplicates(subset=['ip_tor_hash']) # Unique df"
   ]
  },
  {
   "cell_type": "code",
   "execution_count": 3,
   "metadata": {},
   "outputs": [
    {
     "data": {
      "text/plain": [
       "0        2.153.243.139\n",
       "1          24.35.72.68\n",
       "2          31.8.50.133\n",
       "3          31.220.4.45\n",
       "4        47.144.151.79\n",
       "             ...      \n",
       "43639     88.117.6.134\n",
       "43676    77.221.60.172\n",
       "43680     37.238.57.15\n",
       "43691     170.83.39.12\n",
       "43701     75.34.64.147\n",
       "Name: address, Length: 3352, dtype: object"
      ]
     },
     "execution_count": 3,
     "metadata": {},
     "output_type": "execute_result"
    }
   ],
   "source": [
    "u_df.address"
   ]
  },
  {
   "cell_type": "code",
   "execution_count": 4,
   "metadata": {},
   "outputs": [
    {
     "name": "stdout",
     "output_type": "stream",
     "text": [
      "There are 2279 IPs already recorded.\n",
      "There are 1027 IPs left to download.\n"
     ]
    }
   ],
   "source": [
    "# Check already created json files to see which IPs are already fetched\n",
    "## This is currently slow and just so I do not blow through my API limits while building this thing\n",
    "\n",
    "read_ips = []\n",
    "ips = {}\n",
    "\n",
    "for file in os.listdir( '.' ):\n",
    "    if file.endswith( \".json\" ):\n",
    "        jfile = json.loads(open(file, \"r\").read())\n",
    "        for ip in jfile:\n",
    "            read_ips.append(ip)\n",
    "            ips[ip] = jfile[ip]\n",
    "            \n",
    "print(f\"There are {len(ips)} IPs already recorded.\")\n",
    "\n",
    "count = 0\n",
    "for addr in u_df.address:\n",
    "    if addr not in read_ips:\n",
    "        count += 1\n",
    "        \n",
    "print(f\"There are {count} IPs left to download.\")"
   ]
  },
  {
   "cell_type": "code",
   "execution_count": 5,
   "metadata": {},
   "outputs": [],
   "source": [
    "# Get IP Address information from ipinfo.io\n",
    "## e00976a117244e\n",
    "## Get the responses into a larger object that we can iterate through after the queries\n",
    "\n",
    "for ip in u_df.address:\n",
    "    if ip not in read_ips:\n",
    "        r = requests.get(f\"https://ipinfo.io/{ip}?token=e00976a117244e\")\n",
    "        data = json.loads(r.text)\n",
    "        ips[ip] = data\n",
    "        #break\n",
    "        "
   ]
  },
  {
   "cell_type": "code",
   "execution_count": 6,
   "metadata": {},
   "outputs": [],
   "source": [
    "# Save our IPs to a file for now so we do not lose them and waste API calls on duplications\n",
    "with open(f\"ips_{str(uuid.uuid4())}.json\", \"w\") as f:\n",
    "    f.write(json.dumps(ips))\n"
   ]
  },
  {
   "cell_type": "code",
   "execution_count": 7,
   "metadata": {},
   "outputs": [],
   "source": [
    "# Write a parser for the IP entries that returns a dictionary for the\n",
    "# Calling function to then insert into the df\n",
    "def ip_parser(ip):\n",
    "    \"\"\"\n",
    "    Takes one IP from the ips dictionary that was created.\n",
    "    ip.addr.is.here : {\n",
    "        ip: ip.addr.is.here,\n",
    "        county: etc....\n",
    "    }\n",
    "    \"\"\"\n",
    "    cleaned_ip = {\n",
    "        \"ip\": \"\", \"hostname\": \"\", \"city\": \"\", \n",
    "        \"region\": \"\", \"country\": \"\", \"loc\": \"\",\n",
    "        \"org\": \"\", \"postal\": \"\", \"timezone\": \"\"\n",
    "        }\n",
    "    \n",
    "    for k,v in ip.items():\n",
    "        cleaned_ip[k] = v\n",
    "        \n",
    "    return { cleaned_ip[\"ip\"]: {\n",
    "        \"address\": cleaned_ip[\"ip\"],\n",
    "        \"hostname\": cleaned_ip[\"hostname\"],\n",
    "        \"city\": cleaned_ip[\"city\"],\n",
    "        \"region\": cleaned_ip[\"region\"],\n",
    "        \"country\": cleaned_ip[\"country\"],\n",
    "        \"loc\": cleaned_ip[\"loc\"],\n",
    "        \"org\": cleaned_ip[\"org\"],\n",
    "        \"postal\": cleaned_ip[\"postal\"],\n",
    "        \"timezone\": cleaned_ip[\"timezone\"]\n",
    "        }\n",
    "    }\n"
   ]
  },
  {
   "cell_type": "code",
   "execution_count": 8,
   "metadata": {},
   "outputs": [],
   "source": [
    "# Enter default empty strings for missing values for data clarity. Convert into its own dataframe for insertion into main DF\n",
    "clean_ip_list = {}\n",
    "for ip in ips:    \n",
    "    clean_ip_list[ip] = ip_parser(ips[ip])[ip]\n",
    "    \n",
    "ipdf = pd.DataFrame.from_dict(clean_ip_list).T"
   ]
  },
  {
   "cell_type": "code",
   "execution_count": 9,
   "metadata": {},
   "outputs": [],
   "source": [
    "# Merge into a single df with u_df\n",
    "mu_df = pd.merge(u_df, ipdf, on=\"address\")"
   ]
  },
  {
   "cell_type": "code",
   "execution_count": 10,
   "metadata": {},
   "outputs": [],
   "source": [
    "#mu_df.sample(8)"
   ]
  },
  {
   "cell_type": "code",
   "execution_count": 11,
   "metadata": {},
   "outputs": [
    {
     "data": {
      "text/plain": [
       "Index(['address', 'clientIsChoked', 'clientIsInterested', 'clientName',\n",
       "       'flagStr', 'isDownloadingFrom', 'isEncrypted', 'isIncoming', 'isUTP',\n",
       "       'isUploadingTo', 'peerIsChoked', 'peerIsInterested', 'port', 'progress',\n",
       "       'rateToClient', 'rateToPeer', 'tag', 'date', 'torrent_name',\n",
       "       'ip_tor_hash', 'hostname', 'city', 'region', 'country', 'loc', 'org',\n",
       "       'postal', 'timezone'],\n",
       "      dtype='object')"
      ]
     },
     "execution_count": 11,
     "metadata": {},
     "output_type": "execute_result"
    }
   ],
   "source": [
    "mu_df.columns"
   ]
  },
  {
   "cell_type": "code",
   "execution_count": 12,
   "metadata": {},
   "outputs": [
    {
     "data": {
      "text/plain": [
       "46.232.210.140    3\n",
       "103.108.94.45     3\n",
       "68.134.9.58       3\n",
       "94.142.244.70     3\n",
       "87.151.166.60     3\n",
       "                 ..\n",
       "98.116.234.73     1\n",
       "189.6.16.213      1\n",
       "114.82.108.80     1\n",
       "149.34.17.147     1\n",
       "67.3.150.100      1\n",
       "Name: address, Length: 3118, dtype: int64"
      ]
     },
     "execution_count": 12,
     "metadata": {},
     "output_type": "execute_result"
    }
   ],
   "source": [
    "mu_df.address.value_counts()"
   ]
  },
  {
   "cell_type": "code",
   "execution_count": 13,
   "metadata": {},
   "outputs": [
    {
     "data": {
      "text/html": [
       "<div>\n",
       "<style scoped>\n",
       "    .dataframe tbody tr th:only-of-type {\n",
       "        vertical-align: middle;\n",
       "    }\n",
       "\n",
       "    .dataframe tbody tr th {\n",
       "        vertical-align: top;\n",
       "    }\n",
       "\n",
       "    .dataframe thead th {\n",
       "        text-align: right;\n",
       "    }\n",
       "</style>\n",
       "<table border=\"1\" class=\"dataframe\">\n",
       "  <thead>\n",
       "    <tr style=\"text-align: right;\">\n",
       "      <th></th>\n",
       "      <th>address</th>\n",
       "      <th>clientIsChoked</th>\n",
       "      <th>clientIsInterested</th>\n",
       "      <th>clientName</th>\n",
       "      <th>flagStr</th>\n",
       "      <th>isDownloadingFrom</th>\n",
       "      <th>isEncrypted</th>\n",
       "      <th>isIncoming</th>\n",
       "      <th>isUTP</th>\n",
       "      <th>isUploadingTo</th>\n",
       "      <th>...</th>\n",
       "      <th>torrent_name</th>\n",
       "      <th>ip_tor_hash</th>\n",
       "      <th>hostname</th>\n",
       "      <th>city</th>\n",
       "      <th>region</th>\n",
       "      <th>country</th>\n",
       "      <th>loc</th>\n",
       "      <th>org</th>\n",
       "      <th>postal</th>\n",
       "      <th>timezone</th>\n",
       "    </tr>\n",
       "  </thead>\n",
       "  <tbody>\n",
       "    <tr>\n",
       "      <th>314</th>\n",
       "      <td>40.117.119.130</td>\n",
       "      <td>True</td>\n",
       "      <td>False</td>\n",
       "      <td>Transmission 2.92</td>\n",
       "      <td>EH</td>\n",
       "      <td>False</td>\n",
       "      <td>True</td>\n",
       "      <td>False</td>\n",
       "      <td>False</td>\n",
       "      <td>False</td>\n",
       "      <td>...</td>\n",
       "      <td>debian-11.1.0-amd64-DVD-1.iso</td>\n",
       "      <td>8d566cacceb0d8cb2205d9317a7c30ef</td>\n",
       "      <td></td>\n",
       "      <td>Hampden Sydney</td>\n",
       "      <td>Virginia</td>\n",
       "      <td>US</td>\n",
       "      <td>37.3058,-78.5462</td>\n",
       "      <td>AS8075 Microsoft Corporation</td>\n",
       "      <td>23960</td>\n",
       "      <td>America/New_York</td>\n",
       "    </tr>\n",
       "    <tr>\n",
       "      <th>315</th>\n",
       "      <td>40.117.119.130</td>\n",
       "      <td>True</td>\n",
       "      <td>False</td>\n",
       "      <td>Transmission 2.92</td>\n",
       "      <td>EH</td>\n",
       "      <td>False</td>\n",
       "      <td>True</td>\n",
       "      <td>False</td>\n",
       "      <td>False</td>\n",
       "      <td>False</td>\n",
       "      <td>...</td>\n",
       "      <td>ubuntu-21.10-live-server-amd64.iso</td>\n",
       "      <td>09a2a356ef431ab6cd56015a5180bc17</td>\n",
       "      <td></td>\n",
       "      <td>Hampden Sydney</td>\n",
       "      <td>Virginia</td>\n",
       "      <td>US</td>\n",
       "      <td>37.3058,-78.5462</td>\n",
       "      <td>AS8075 Microsoft Corporation</td>\n",
       "      <td>23960</td>\n",
       "      <td>America/New_York</td>\n",
       "    </tr>\n",
       "  </tbody>\n",
       "</table>\n",
       "<p>2 rows × 28 columns</p>\n",
       "</div>"
      ],
      "text/plain": [
       "            address clientIsChoked clientIsInterested         clientName  \\\n",
       "314  40.117.119.130           True              False  Transmission 2.92   \n",
       "315  40.117.119.130           True              False  Transmission 2.92   \n",
       "\n",
       "    flagStr isDownloadingFrom isEncrypted isIncoming  isUTP isUploadingTo  \\\n",
       "314      EH             False        True      False  False         False   \n",
       "315      EH             False        True      False  False         False   \n",
       "\n",
       "     ...                        torrent_name  \\\n",
       "314  ...       debian-11.1.0-amd64-DVD-1.iso   \n",
       "315  ...  ubuntu-21.10-live-server-amd64.iso   \n",
       "\n",
       "                          ip_tor_hash hostname            city    region  \\\n",
       "314  8d566cacceb0d8cb2205d9317a7c30ef           Hampden Sydney  Virginia   \n",
       "315  09a2a356ef431ab6cd56015a5180bc17           Hampden Sydney  Virginia   \n",
       "\n",
       "    country               loc                           org postal  \\\n",
       "314      US  37.3058,-78.5462  AS8075 Microsoft Corporation  23960   \n",
       "315      US  37.3058,-78.5462  AS8075 Microsoft Corporation  23960   \n",
       "\n",
       "             timezone  \n",
       "314  America/New_York  \n",
       "315  America/New_York  \n",
       "\n",
       "[2 rows x 28 columns]"
      ]
     },
     "execution_count": 13,
     "metadata": {},
     "output_type": "execute_result"
    }
   ],
   "source": [
    "mu_df.loc[mu_df.address == \"40.117.119.130\"]"
   ]
  },
  {
   "cell_type": "markdown",
   "metadata": {},
   "source": [
    "### Finding Torrent Stats"
   ]
  },
  {
   "cell_type": "code",
   "execution_count": 62,
   "metadata": {},
   "outputs": [],
   "source": [
    "stats_query = \"SELECT * FROM stats;\"\n",
    "\n",
    "stats_df = pd.read_sql_query(stats_query,conn)\n",
    "stats_df['uploadRatio'] = pd.to_numeric(stats_df['uploadRatio'])\n",
    "stats_df['totalSize'] = pd.to_numeric(stats_df['totalSize'])"
   ]
  },
  {
   "cell_type": "code",
   "execution_count": 51,
   "metadata": {},
   "outputs": [
    {
     "data": {
      "text/html": [
       "<div>\n",
       "<style scoped>\n",
       "    .dataframe tbody tr th:only-of-type {\n",
       "        vertical-align: middle;\n",
       "    }\n",
       "\n",
       "    .dataframe tbody tr th {\n",
       "        vertical-align: top;\n",
       "    }\n",
       "\n",
       "    .dataframe thead th {\n",
       "        text-align: right;\n",
       "    }\n",
       "</style>\n",
       "<table border=\"1\" class=\"dataframe\">\n",
       "  <thead>\n",
       "    <tr style=\"text-align: right;\">\n",
       "      <th></th>\n",
       "      <th>name</th>\n",
       "      <th>rateDownload</th>\n",
       "      <th>rateUpload</th>\n",
       "      <th>status</th>\n",
       "      <th>totalSize</th>\n",
       "      <th>uploadRatio</th>\n",
       "      <th>tag</th>\n",
       "      <th>date</th>\n",
       "    </tr>\n",
       "  </thead>\n",
       "  <tbody>\n",
       "    <tr>\n",
       "      <th>0</th>\n",
       "      <td>debian-11.1.0-amd64-DVD-1.iso</td>\n",
       "      <td>0</td>\n",
       "      <td>0</td>\n",
       "      <td>6</td>\n",
       "      <td>3976200192</td>\n",
       "      <td>0.0004</td>\n",
       "      <td>6002737710963111</td>\n",
       "      <td>Sat Nov 20 21:14:01 2021</td>\n",
       "    </tr>\n",
       "    <tr>\n",
       "      <th>1</th>\n",
       "      <td>archlinux-2021.11.01-x86_64.iso</td>\n",
       "      <td>0</td>\n",
       "      <td>0</td>\n",
       "      <td>6</td>\n",
       "      <td>887435264</td>\n",
       "      <td>0.0000</td>\n",
       "      <td>6002737710963111</td>\n",
       "      <td>Sat Nov 20 21:14:01 2021</td>\n",
       "    </tr>\n",
       "    <tr>\n",
       "      <th>2</th>\n",
       "      <td>ubuntu-21.10-live-server-amd64.iso</td>\n",
       "      <td>0</td>\n",
       "      <td>0</td>\n",
       "      <td>6</td>\n",
       "      <td>1269377024</td>\n",
       "      <td>0.0014</td>\n",
       "      <td>6002737710963111</td>\n",
       "      <td>Sat Nov 20 21:14:01 2021</td>\n",
       "    </tr>\n",
       "    <tr>\n",
       "      <th>3</th>\n",
       "      <td>debian-11.1.0-amd64-DVD-1.iso</td>\n",
       "      <td>0</td>\n",
       "      <td>0</td>\n",
       "      <td>6</td>\n",
       "      <td>3976200192</td>\n",
       "      <td>0.0004</td>\n",
       "      <td>1036583031140572</td>\n",
       "      <td>Sat Nov 20 21:15:02 2021</td>\n",
       "    </tr>\n",
       "    <tr>\n",
       "      <th>4</th>\n",
       "      <td>archlinux-2021.11.01-x86_64.iso</td>\n",
       "      <td>0</td>\n",
       "      <td>0</td>\n",
       "      <td>6</td>\n",
       "      <td>887435264</td>\n",
       "      <td>0.0000</td>\n",
       "      <td>1036583031140572</td>\n",
       "      <td>Sat Nov 20 21:15:02 2021</td>\n",
       "    </tr>\n",
       "  </tbody>\n",
       "</table>\n",
       "</div>"
      ],
      "text/plain": [
       "                                 name rateDownload rateUpload status  \\\n",
       "0       debian-11.1.0-amd64-DVD-1.iso            0          0      6   \n",
       "1     archlinux-2021.11.01-x86_64.iso            0          0      6   \n",
       "2  ubuntu-21.10-live-server-amd64.iso            0          0      6   \n",
       "3       debian-11.1.0-amd64-DVD-1.iso            0          0      6   \n",
       "4     archlinux-2021.11.01-x86_64.iso            0          0      6   \n",
       "\n",
       "    totalSize  uploadRatio               tag                      date  \n",
       "0  3976200192       0.0004  6002737710963111  Sat Nov 20 21:14:01 2021  \n",
       "1   887435264       0.0000  6002737710963111  Sat Nov 20 21:14:01 2021  \n",
       "2  1269377024       0.0014  6002737710963111  Sat Nov 20 21:14:01 2021  \n",
       "3  3976200192       0.0004  1036583031140572  Sat Nov 20 21:15:02 2021  \n",
       "4   887435264       0.0000  1036583031140572  Sat Nov 20 21:15:02 2021  "
      ]
     },
     "execution_count": 51,
     "metadata": {},
     "output_type": "execute_result"
    }
   ],
   "source": [
    "stats_df.head()"
   ]
  },
  {
   "cell_type": "code",
   "execution_count": 52,
   "metadata": {},
   "outputs": [],
   "source": [
    "ul = stats_df.loc[stats_df.name == \"ubuntu-21.10-live-server-amd64.iso\"]"
   ]
  },
  {
   "cell_type": "code",
   "execution_count": 60,
   "metadata": {},
   "outputs": [
    {
     "data": {
      "text/plain": [
       "<matplotlib.axes._subplots.AxesSubplot at 0x1345ac4c0>"
      ]
     },
     "execution_count": 60,
     "metadata": {},
     "output_type": "execute_result"
    },
    {
     "data": {
      "image/png": "[encoded data removed]",
      "text/plain": [
       "<Figure size 576x288 with 1 Axes>"
      ]
     },
     "metadata": {},
     "output_type": "display_data"
    }
   ],
   "source": [
    "sns.set(rc={\"figure.figsize\":(8, 4)})\n",
    "sns.lineplot(x='date', y='uploadRatio', hue='name', data=stats_df)"
   ]
  },
  {
   "cell_type": "code",
   "execution_count": 63,
   "metadata": {},
   "outputs": [],
   "source": [
    "stats_df[\"total_bytes_uploaded\"] = stats_df['totalSize'] * stats_df[\"uploadRatio\"]"
   ]
  },
  {
   "cell_type": "code",
   "execution_count": 64,
   "metadata": {},
   "outputs": [
    {
     "data": {
      "text/plain": [
       "<matplotlib.axes._subplots.AxesSubplot at 0x13326fdf0>"
      ]
     },
     "execution_count": 64,
     "metadata": {},
     "output_type": "execute_result"
    },
    {
     "data": {
      "image/png": "[encoded data removed]",
      "text/plain": [
       "<Figure size 576x288 with 1 Axes>"
      ]
     },
     "metadata": {},
     "output_type": "display_data"
    }
   ],
   "source": [
    "sns.lineplot(x='date', y='total_bytes_uploaded', hue='name', data=stats_df)"
   ]
  },
  {
   "cell_type": "markdown",
   "metadata": {},
   "source": [
    "### Collecting Download Stats"
   ]
  },
  {
   "cell_type": "code",
   "execution_count": 66,
   "metadata": {},
   "outputs": [
    {
     "data": {
      "text/html": [
       "<div>\n",
       "<style scoped>\n",
       "    .dataframe tbody tr th:only-of-type {\n",
       "        vertical-align: middle;\n",
       "    }\n",
       "\n",
       "    .dataframe tbody tr th {\n",
       "        vertical-align: top;\n",
       "    }\n",
       "\n",
       "    .dataframe thead th {\n",
       "        text-align: right;\n",
       "    }\n",
       "</style>\n",
       "<table border=\"1\" class=\"dataframe\">\n",
       "  <thead>\n",
       "    <tr style=\"text-align: right;\">\n",
       "      <th></th>\n",
       "      <th>address</th>\n",
       "      <th>clientIsChoked</th>\n",
       "      <th>clientIsInterested</th>\n",
       "      <th>clientName</th>\n",
       "      <th>flagStr</th>\n",
       "      <th>isDownloadingFrom</th>\n",
       "      <th>isEncrypted</th>\n",
       "      <th>isIncoming</th>\n",
       "      <th>isUTP</th>\n",
       "      <th>isUploadingTo</th>\n",
       "      <th>...</th>\n",
       "      <th>torrent_name</th>\n",
       "      <th>ip_tor_hash</th>\n",
       "      <th>hostname</th>\n",
       "      <th>city</th>\n",
       "      <th>region</th>\n",
       "      <th>country</th>\n",
       "      <th>loc</th>\n",
       "      <th>org</th>\n",
       "      <th>postal</th>\n",
       "      <th>timezone</th>\n",
       "    </tr>\n",
       "  </thead>\n",
       "  <tbody>\n",
       "    <tr>\n",
       "      <th>0</th>\n",
       "      <td>2.153.243.139</td>\n",
       "      <td>True</td>\n",
       "      <td>False</td>\n",
       "      <td>Transmission 3.00</td>\n",
       "      <td>EI</td>\n",
       "      <td>False</td>\n",
       "      <td>True</td>\n",
       "      <td>True</td>\n",
       "      <td>False</td>\n",
       "      <td>False</td>\n",
       "      <td>...</td>\n",
       "      <td>debian-11.1.0-amd64-DVD-1.iso</td>\n",
       "      <td>c137d93cdaa781c922fd8633ad3a2c81</td>\n",
       "      <td>2.153.243.139.dyn.user.ono.com</td>\n",
       "      <td>Torrejón de Ardoz</td>\n",
       "      <td>Madrid</td>\n",
       "      <td>ES</td>\n",
       "      <td>40.4554,-3.4697</td>\n",
       "      <td>AS12430 VODAFONE ESPANA S.A.U.</td>\n",
       "      <td>28850</td>\n",
       "      <td>Europe/Madrid</td>\n",
       "    </tr>\n",
       "    <tr>\n",
       "      <th>1</th>\n",
       "      <td>24.35.72.68</td>\n",
       "      <td>True</td>\n",
       "      <td>False</td>\n",
       "      <td>Transmission 2.93</td>\n",
       "      <td>EH</td>\n",
       "      <td>False</td>\n",
       "      <td>True</td>\n",
       "      <td>False</td>\n",
       "      <td>False</td>\n",
       "      <td>False</td>\n",
       "      <td>...</td>\n",
       "      <td>debian-11.1.0-amd64-DVD-1.iso</td>\n",
       "      <td>022bfe0b0e23e48607f0ba136e38491c</td>\n",
       "      <td></td>\n",
       "      <td>Seattle</td>\n",
       "      <td>Washington</td>\n",
       "      <td>US</td>\n",
       "      <td>47.6062,-122.3321</td>\n",
       "      <td>AS54858 Wave Broadband</td>\n",
       "      <td>98101</td>\n",
       "      <td>America/Los_Angeles</td>\n",
       "    </tr>\n",
       "    <tr>\n",
       "      <th>2</th>\n",
       "      <td>31.8.50.133</td>\n",
       "      <td>True</td>\n",
       "      <td>False</td>\n",
       "      <td>Transmission 2.94</td>\n",
       "      <td>EH</td>\n",
       "      <td>False</td>\n",
       "      <td>True</td>\n",
       "      <td>False</td>\n",
       "      <td>False</td>\n",
       "      <td>False</td>\n",
       "      <td>...</td>\n",
       "      <td>debian-11.1.0-amd64-DVD-1.iso</td>\n",
       "      <td>d31d7f9b6b9eeb5343872ddc2e5dc01a</td>\n",
       "      <td>h31-8-50-133.dyn.bashtel.ru</td>\n",
       "      <td>Tuymazy</td>\n",
       "      <td>Bashkortostan Republic</td>\n",
       "      <td>RU</td>\n",
       "      <td>54.6067,53.7097</td>\n",
       "      <td>AS28812 PJSC Bashinformsvyaz</td>\n",
       "      <td>452750</td>\n",
       "      <td>Asia/Yekaterinburg</td>\n",
       "    </tr>\n",
       "    <tr>\n",
       "      <th>3</th>\n",
       "      <td>31.220.4.45</td>\n",
       "      <td>True</td>\n",
       "      <td>False</td>\n",
       "      <td>Transmission 3.00</td>\n",
       "      <td>EH</td>\n",
       "      <td>False</td>\n",
       "      <td>True</td>\n",
       "      <td>False</td>\n",
       "      <td>False</td>\n",
       "      <td>False</td>\n",
       "      <td>...</td>\n",
       "      <td>debian-11.1.0-amd64-DVD-1.iso</td>\n",
       "      <td>353d7259c55f86e1eac16bad30e44f66</td>\n",
       "      <td></td>\n",
       "      <td>Amsterdam</td>\n",
       "      <td>North Holland</td>\n",
       "      <td>NL</td>\n",
       "      <td>52.3740,4.8897</td>\n",
       "      <td>AS63473 HostHatch, LLC</td>\n",
       "      <td>1012</td>\n",
       "      <td>Europe/Amsterdam</td>\n",
       "    </tr>\n",
       "    <tr>\n",
       "      <th>4</th>\n",
       "      <td>31.220.4.45</td>\n",
       "      <td>True</td>\n",
       "      <td>False</td>\n",
       "      <td>Transmission 3.00</td>\n",
       "      <td>EH</td>\n",
       "      <td>False</td>\n",
       "      <td>True</td>\n",
       "      <td>False</td>\n",
       "      <td>False</td>\n",
       "      <td>False</td>\n",
       "      <td>...</td>\n",
       "      <td>ubuntu-21.10-live-server-amd64.iso</td>\n",
       "      <td>90ad2b628961e2790c4f935f1d56cb9c</td>\n",
       "      <td></td>\n",
       "      <td>Amsterdam</td>\n",
       "      <td>North Holland</td>\n",
       "      <td>NL</td>\n",
       "      <td>52.3740,4.8897</td>\n",
       "      <td>AS63473 HostHatch, LLC</td>\n",
       "      <td>1012</td>\n",
       "      <td>Europe/Amsterdam</td>\n",
       "    </tr>\n",
       "  </tbody>\n",
       "</table>\n",
       "<p>5 rows × 28 columns</p>\n",
       "</div>"
      ],
      "text/plain": [
       "         address clientIsChoked clientIsInterested         clientName flagStr  \\\n",
       "0  2.153.243.139           True              False  Transmission 3.00      EI   \n",
       "1    24.35.72.68           True              False  Transmission 2.93      EH   \n",
       "2    31.8.50.133           True              False  Transmission 2.94      EH   \n",
       "3    31.220.4.45           True              False  Transmission 3.00      EH   \n",
       "4    31.220.4.45           True              False  Transmission 3.00      EH   \n",
       "\n",
       "  isDownloadingFrom isEncrypted isIncoming  isUTP isUploadingTo  ...  \\\n",
       "0             False        True       True  False         False  ...   \n",
       "1             False        True      False  False         False  ...   \n",
       "2             False        True      False  False         False  ...   \n",
       "3             False        True      False  False         False  ...   \n",
       "4             False        True      False  False         False  ...   \n",
       "\n",
       "                         torrent_name                       ip_tor_hash  \\\n",
       "0       debian-11.1.0-amd64-DVD-1.iso  c137d93cdaa781c922fd8633ad3a2c81   \n",
       "1       debian-11.1.0-amd64-DVD-1.iso  022bfe0b0e23e48607f0ba136e38491c   \n",
       "2       debian-11.1.0-amd64-DVD-1.iso  d31d7f9b6b9eeb5343872ddc2e5dc01a   \n",
       "3       debian-11.1.0-amd64-DVD-1.iso  353d7259c55f86e1eac16bad30e44f66   \n",
       "4  ubuntu-21.10-live-server-amd64.iso  90ad2b628961e2790c4f935f1d56cb9c   \n",
       "\n",
       "                         hostname               city                  region  \\\n",
       "0  2.153.243.139.dyn.user.ono.com  Torrejón de Ardoz                  Madrid   \n",
       "1                                            Seattle              Washington   \n",
       "2     h31-8-50-133.dyn.bashtel.ru            Tuymazy  Bashkortostan Republic   \n",
       "3                                          Amsterdam           North Holland   \n",
       "4                                          Amsterdam           North Holland   \n",
       "\n",
       "  country                loc                             org  postal  \\\n",
       "0      ES    40.4554,-3.4697  AS12430 VODAFONE ESPANA S.A.U.   28850   \n",
       "1      US  47.6062,-122.3321          AS54858 Wave Broadband   98101   \n",
       "2      RU    54.6067,53.7097    AS28812 PJSC Bashinformsvyaz  452750   \n",
       "3      NL     52.3740,4.8897          AS63473 HostHatch, LLC    1012   \n",
       "4      NL     52.3740,4.8897          AS63473 HostHatch, LLC    1012   \n",
       "\n",
       "              timezone  \n",
       "0        Europe/Madrid  \n",
       "1  America/Los_Angeles  \n",
       "2   Asia/Yekaterinburg  \n",
       "3     Europe/Amsterdam  \n",
       "4     Europe/Amsterdam  \n",
       "\n",
       "[5 rows x 28 columns]"
      ]
     },
     "execution_count": 66,
     "metadata": {},
     "output_type": "execute_result"
    }
   ],
   "source": [
    "mu_df.head()"
   ]
  },
  {
   "cell_type": "code",
   "execution_count": 95,
   "metadata": {},
   "outputs": [],
   "source": [
    "c_total_df = mu_df.groupby(by=['country', 'torrent_name'])['torrent_name'].count().unstack(fill_value = 0)\n",
    "c_total_df.reset_index(inplace=True)"
   ]
  },
  {
   "cell_type": "code",
   "execution_count": 106,
   "metadata": {},
   "outputs": [
    {
     "data": {
      "text/plain": [
       "<matplotlib.axes._subplots.AxesSubplot at 0x133d69490>"
      ]
     },
     "execution_count": 106,
     "metadata": {},
     "output_type": "execute_result"
    },
    {
     "data": {
      "image/png": "[encoded data removed]",
      "text/plain": [
       "<Figure size 576x288 with 1 Axes>"
      ]
     },
     "metadata": {},
     "output_type": "display_data"
    }
   ],
   "source": [
    "c_total_df.loc[c_total_df[\"country\"] == \"DE\"].plot.bar()"
   ]
  },
  {
   "cell_type": "code",
   "execution_count": 110,
   "metadata": {},
   "outputs": [
    {
     "data": {
      "text/plain": [
       "qBittorrent 4.3.9    1030\n",
       "Transmission 3.00     629\n",
       "Transmission 2.94     296\n",
       "qBittorrent 4.3.8     278\n",
       "Deluge 2.0.3.54       107\n",
       "                     ... \n",
       "FD6nwOrI                1\n",
       "FD6mkdsV                1\n",
       "-TX1430-                1\n",
       "Transmission 2.13       1\n",
       "Deluge 1.3.12.0         1\n",
       "Name: clientName, Length: 168, dtype: int64"
      ]
     },
     "execution_count": 110,
     "metadata": {},
     "output_type": "execute_result"
    }
   ],
   "source": [
    "mu_df.clientName.value_counts()"
   ]
  },
  {
   "cell_type": "code",
   "execution_count": null,
   "metadata": {},
   "outputs": [],
   "source": []
  },
  {
   "cell_type": "code",
   "execution_count": null,
   "metadata": {},
   "outputs": [],
   "source": []
  }
 ],
 "metadata": {
  "interpreter": {
   "hash": "44157fdafb9e422e9ba11f8ff5306b405013a9efc8aa6f7a0e5c37e9d72f10c7"
  },
  "kernelspec": {
   "display_name": "Python 3",
   "language": "python",
   "name": "python3"
  },
  "language_info": {
   "codemirror_mode": {
    "name": "ipython",
    "version": 3
   },
   "file_extension": ".py",
   "mimetype": "text/x-python",
   "name": "python",
   "nbconvert_exporter": "python",
   "pygments_lexer": "ipython3",
   "version": "3.9.1"
  }
 },
 "nbformat": 4,
 "nbformat_minor": 4
}
