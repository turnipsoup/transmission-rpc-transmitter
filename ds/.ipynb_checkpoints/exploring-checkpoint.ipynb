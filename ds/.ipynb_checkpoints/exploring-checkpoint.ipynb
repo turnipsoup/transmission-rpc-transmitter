{
 "cells": [
  {
   "cell_type": "markdown",
   "metadata": {},
   "source": [
    "### Finding Peers"
   ]
  },
  {
   "cell_type": "code",
   "execution_count": 52,
   "metadata": {},
   "outputs": [],
   "source": [
    "import pandas as pd\n",
    "import seaborn as sns\n",
    "import sqlite3, hashlib, requests, json, uuid, os\n",
    "\n",
    "# Collect to and query the DB for all of the peers\n",
    "conn = sqlite3.connect('../test.db')\n",
    "query = \"SELECT * FROM peers;\"\n",
    "\n",
    "df = pd.read_sql_query(query,conn)"
   ]
  },
  {
   "cell_type": "code",
   "execution_count": 29,
   "metadata": {},
   "outputs": [
    {
     "name": "stdout",
     "output_type": "stream",
     "text": [
      "Total Unique IPs: 209 Total IPs: 3292\n"
     ]
    }
   ],
   "source": [
    "# Total Unique IPs\n",
    "print(f\"Total Unique IPs: {len(df.address.unique())} Total IPs: {len(df.address)}\")\n",
    "\n",
    "# Getting a df of unique IP+torrent combos only\n",
    "## Hash the IP + torrent name concatenated\n",
    "## Insert hash as own column\n",
    "## Select only unique hashes\n",
    "\n",
    "df[\"ip_tor_hash\"] = df[\"address\"] + df[\"torrent_name\"]\n",
    "df[\"ip_tor_hash\"] = df[\"ip_tor_hash\"].apply(lambda x: hashlib.md5(x.encode()).hexdigest())\n",
    "\n",
    "u_df = df.drop_duplicates(subset=['ip_tor_hash']) # Unique df"
   ]
  },
  {
   "cell_type": "code",
   "execution_count": 30,
   "metadata": {},
   "outputs": [],
   "source": [
    "# Check already created json files to see which IPs are already fetched\n",
    "## This is currently slow and just so I do not blow through my API limits while building this thing\n",
    "\n",
    "read_ips = []\n",
    "ips = {}\n",
    "\n",
    "for file in os.listdir( '.' ):\n",
    "    if file.endswith( \".json\" ):\n",
    "        jfile = json.loads(open(file, \"r\").read())\n",
    "        for ip in jfile:\n",
    "            read_ips.append(ip)\n",
    "            ips[ip] = jfile[ip]"
   ]
  },
  {
   "cell_type": "code",
   "execution_count": 31,
   "metadata": {},
   "outputs": [],
   "source": [
    "# Get IP Address information from ipinfo.io\n",
    "## e00976a117244e\n",
    "## Get the responses into a larger object that we can iterate through after the queries\n",
    "\n",
    "for ip in u_df.address:\n",
    "    if ip not in read_ips:\n",
    "        r = requests.get(f\"https://ipinfo.io/{ip}?token=e00976a117244e\")\n",
    "        data = json.loads(r.text)\n",
    "        ips[ip] = data\n",
    "        #break\n",
    "        "
   ]
  },
  {
   "cell_type": "code",
   "execution_count": 33,
   "metadata": {},
   "outputs": [],
   "source": [
    "# Save our IPs to a file for now so we do not lose them and waste API calls on duplications\n",
    "with open(f\"ips_{str(uuid.uuid4())}.json\", \"w\") as f:\n",
    "    f.write(json.dumps(ips))\n"
   ]
  },
  {
   "cell_type": "code",
   "execution_count": 34,
   "metadata": {},
   "outputs": [],
   "source": [
    "# Write a parser for the IP entries that returns a dictionary for the\n",
    "# Calling function to then insert into the df\n",
    "def ip_parser(ip):\n",
    "    \"\"\"\n",
    "    Takes one IP from the ips dictionary that was created.\n",
    "    ip.addr.is.here : {\n",
    "        ip: ip.addr.is.here,\n",
    "        county: etc....\n",
    "    }\n",
    "    \"\"\"\n",
    "    cleaned_ip = {\n",
    "        \"ip\": \"\", \"hostname\": \"\", \"city\": \"\", \n",
    "        \"region\": \"\", \"country\": \"\", \"loc\": \"\",\n",
    "        \"org\": \"\", \"postal\": \"\", \"timezone\": \"\"\n",
    "        }\n",
    "    \n",
    "    for k,v in ip.items():\n",
    "        cleaned_ip[k] = v\n",
    "        \n",
    "    return { cleaned_ip[\"ip\"]: {\n",
    "        \"address\": cleaned_ip[\"ip\"],\n",
    "        \"hostname\": cleaned_ip[\"hostname\"],\n",
    "        \"city\": cleaned_ip[\"city\"],\n",
    "        \"region\": cleaned_ip[\"region\"],\n",
    "        \"country\": cleaned_ip[\"country\"],\n",
    "        \"loc\": cleaned_ip[\"loc\"],\n",
    "        \"org\": cleaned_ip[\"org\"],\n",
    "        \"postal\": cleaned_ip[\"postal\"],\n",
    "        \"timezone\": cleaned_ip[\"timezone\"]\n",
    "        }\n",
    "    }\n"
   ]
  },
  {
   "cell_type": "code",
   "execution_count": 35,
   "metadata": {},
   "outputs": [],
   "source": [
    "# Enter default empty strings for missing values for data clarity. Convert into its own dataframe for insertion into main DF\n",
    "clean_ip_list = {}\n",
    "for ip in ips:    \n",
    "    clean_ip_list[ip] = ip_parser(ips[ip])[ip]\n",
    "    \n",
    "ipdf = pd.DataFrame.from_dict(clean_ip_list).T"
   ]
  },
  {
   "cell_type": "code",
   "execution_count": 36,
   "metadata": {},
   "outputs": [],
   "source": [
    "# Merge into a single df with u_df\n",
    "mu_df = pd.merge(u_df, ipdf, on=\"address\")"
   ]
  },
  {
   "cell_type": "code",
   "execution_count": 37,
   "metadata": {},
   "outputs": [],
   "source": [
    "#mu_df.sample(8)"
   ]
  },
  {
   "cell_type": "code",
   "execution_count": 47,
   "metadata": {},
   "outputs": [
    {
     "data": {
      "text/plain": [
       "Index(['address', 'clientIsChoked', 'clientIsInterested', 'clientName',\n",
       "       'flagStr', 'isDownloadingFrom', 'isEncrypted', 'isIncoming', 'isUTP',\n",
       "       'isUploadingTo', 'peerIsChoked', 'peerIsInterested', 'port', 'progress',\n",
       "       'rateToClient', 'rateToPeer', 'tag', 'date', 'torrent_name',\n",
       "       'ip_tor_hash', 'hostname', 'city', 'region', 'country', 'loc', 'org',\n",
       "       'postal', 'timezone'],\n",
       "      dtype='object')"
      ]
     },
     "execution_count": 47,
     "metadata": {},
     "output_type": "execute_result"
    }
   ],
   "source": [
    "mu_df.columns"
   ]
  },
  {
   "cell_type": "code",
   "execution_count": 50,
   "metadata": {},
   "outputs": [
    {
     "data": {
      "text/plain": [
       "40.117.119.130     2\n",
       "128.0.183.14       2\n",
       "108.12.224.55      2\n",
       "110.175.89.172     1\n",
       "5.135.244.34       1\n",
       "                  ..\n",
       "37.48.95.220       1\n",
       "138.197.143.248    1\n",
       "50.39.177.9        1\n",
       "85.143.219.196     1\n",
       "100.2.24.55        1\n",
       "Name: address, Length: 209, dtype: int64"
      ]
     },
     "execution_count": 50,
     "metadata": {},
     "output_type": "execute_result"
    }
   ],
   "source": [
    "mu_df.address.value_counts()"
   ]
  },
  {
   "cell_type": "code",
   "execution_count": 51,
   "metadata": {},
   "outputs": [
    {
     "data": {
      "text/html": [
       "<div>\n",
       "<style scoped>\n",
       "    .dataframe tbody tr th:only-of-type {\n",
       "        vertical-align: middle;\n",
       "    }\n",
       "\n",
       "    .dataframe tbody tr th {\n",
       "        vertical-align: top;\n",
       "    }\n",
       "\n",
       "    .dataframe thead th {\n",
       "        text-align: right;\n",
       "    }\n",
       "</style>\n",
       "<table border=\"1\" class=\"dataframe\">\n",
       "  <thead>\n",
       "    <tr style=\"text-align: right;\">\n",
       "      <th></th>\n",
       "      <th>address</th>\n",
       "      <th>clientIsChoked</th>\n",
       "      <th>clientIsInterested</th>\n",
       "      <th>clientName</th>\n",
       "      <th>flagStr</th>\n",
       "      <th>isDownloadingFrom</th>\n",
       "      <th>isEncrypted</th>\n",
       "      <th>isIncoming</th>\n",
       "      <th>isUTP</th>\n",
       "      <th>isUploadingTo</th>\n",
       "      <th>...</th>\n",
       "      <th>torrent_name</th>\n",
       "      <th>ip_tor_hash</th>\n",
       "      <th>hostname</th>\n",
       "      <th>city</th>\n",
       "      <th>region</th>\n",
       "      <th>country</th>\n",
       "      <th>loc</th>\n",
       "      <th>org</th>\n",
       "      <th>postal</th>\n",
       "      <th>timezone</th>\n",
       "    </tr>\n",
       "  </thead>\n",
       "  <tbody>\n",
       "    <tr>\n",
       "      <th>91</th>\n",
       "      <td>40.117.119.130</td>\n",
       "      <td>True</td>\n",
       "      <td>False</td>\n",
       "      <td>Transmission 2.92</td>\n",
       "      <td>EX</td>\n",
       "      <td>False</td>\n",
       "      <td>True</td>\n",
       "      <td>False</td>\n",
       "      <td>False</td>\n",
       "      <td>False</td>\n",
       "      <td>...</td>\n",
       "      <td>Rocky-8.5-x86_64-dvd1</td>\n",
       "      <td>99dbe7989221b21b952d4f1effe630f1</td>\n",
       "      <td></td>\n",
       "      <td>Hampden Sydney</td>\n",
       "      <td>Virginia</td>\n",
       "      <td>US</td>\n",
       "      <td>37.3058,-78.5462</td>\n",
       "      <td>AS8075 Microsoft Corporation</td>\n",
       "      <td>23960</td>\n",
       "      <td>America/New_York</td>\n",
       "    </tr>\n",
       "    <tr>\n",
       "      <th>92</th>\n",
       "      <td>40.117.119.130</td>\n",
       "      <td>True</td>\n",
       "      <td>False</td>\n",
       "      <td>Transmission 2.92</td>\n",
       "      <td></td>\n",
       "      <td>False</td>\n",
       "      <td>False</td>\n",
       "      <td>False</td>\n",
       "      <td>False</td>\n",
       "      <td>False</td>\n",
       "      <td>...</td>\n",
       "      <td>2021-10-30-raspios-bullseye-arm64-lite.zip</td>\n",
       "      <td>7543c3fb1f3210972d5e395f9e991048</td>\n",
       "      <td></td>\n",
       "      <td>Hampden Sydney</td>\n",
       "      <td>Virginia</td>\n",
       "      <td>US</td>\n",
       "      <td>37.3058,-78.5462</td>\n",
       "      <td>AS8075 Microsoft Corporation</td>\n",
       "      <td>23960</td>\n",
       "      <td>America/New_York</td>\n",
       "    </tr>\n",
       "  </tbody>\n",
       "</table>\n",
       "<p>2 rows × 28 columns</p>\n",
       "</div>"
      ],
      "text/plain": [
       "           address clientIsChoked clientIsInterested         clientName  \\\n",
       "91  40.117.119.130           True              False  Transmission 2.92   \n",
       "92  40.117.119.130           True              False  Transmission 2.92   \n",
       "\n",
       "   flagStr isDownloadingFrom isEncrypted isIncoming  isUTP isUploadingTo  ...  \\\n",
       "91      EX             False        True      False  False         False  ...   \n",
       "92                     False       False      False  False         False  ...   \n",
       "\n",
       "                                  torrent_name  \\\n",
       "91                       Rocky-8.5-x86_64-dvd1   \n",
       "92  2021-10-30-raspios-bullseye-arm64-lite.zip   \n",
       "\n",
       "                         ip_tor_hash hostname            city    region  \\\n",
       "91  99dbe7989221b21b952d4f1effe630f1           Hampden Sydney  Virginia   \n",
       "92  7543c3fb1f3210972d5e395f9e991048           Hampden Sydney  Virginia   \n",
       "\n",
       "   country               loc                           org postal  \\\n",
       "91      US  37.3058,-78.5462  AS8075 Microsoft Corporation  23960   \n",
       "92      US  37.3058,-78.5462  AS8075 Microsoft Corporation  23960   \n",
       "\n",
       "            timezone  \n",
       "91  America/New_York  \n",
       "92  America/New_York  \n",
       "\n",
       "[2 rows x 28 columns]"
      ]
     },
     "execution_count": 51,
     "metadata": {},
     "output_type": "execute_result"
    }
   ],
   "source": [
    "mu_df.loc[mu_df.address == \"40.117.119.130\"]"
   ]
  },
  {
   "cell_type": "markdown",
   "metadata": {},
   "source": [
    "### Finding Torrent Stats"
   ]
  },
  {
   "cell_type": "code",
   "execution_count": null,
   "metadata": {},
   "outputs": [],
   "source": []
  }
 ],
 "metadata": {
  "interpreter": {
   "hash": "44157fdafb9e422e9ba11f8ff5306b405013a9efc8aa6f7a0e5c37e9d72f10c7"
  },
  "kernelspec": {
   "display_name": "Python 3",
   "language": "python",
   "name": "python3"
  },
  "language_info": {
   "codemirror_mode": {
    "name": "ipython",
    "version": 3
   },
   "file_extension": ".py",
   "mimetype": "text/x-python",
   "name": "python",
   "nbconvert_exporter": "python",
   "pygments_lexer": "ipython3",
   "version": "3.9.1"
  }
 },
 "nbformat": 4,
 "nbformat_minor": 4
}
